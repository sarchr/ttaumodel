{
 "cells": [
  {
   "cell_type": "code",
   "execution_count": null,
   "metadata": {
    "collapsed": true
   },
   "outputs": [],
   "source": [
    "import PyDSTool as dst\n",
    "from PyDSTool import args\n",
    "from PyDSTool.Toolbox import phaseplane as pp\n",
    "\n",
    "import numpy as np\n",
    "from matplotlib import pyplot as plt"
   ]
  },
  {
   "cell_type": "code",
   "execution_count": null,
   "metadata": {},
   "outputs": [],
   "source": [
    "pars = {'h': .005, 'A': 7.26722e27,'n': 3.5,'Q': 52.,'iPe': 1000, 'Di': 2.}\n",
    "edot0 = 1.e-11\n",
    "\n",
    "pars['A']=6500/edot0*5e4**3.5*1e4**-2\n",
    "pars['iPe'] = 7.5\n",
    "icdict = {'T': 1.2,'tau': 0.24}\n",
    "Tstr = '(iPe)*(1.-T)+Di*h*(A*tau**n)*exp(-Q/T)'\n",
    "taustr = '2*(1-h*(A*tau**n)*exp(-Q/T))'\n",
    "print pars['A']"
   ]
  },
  {
   "cell_type": "markdown",
   "metadata": {},
   "source": [
    "$$\\vec{X}= \\begin{pmatrix}  T \\\\ \n",
    "\\tau \\end{pmatrix} $$\n",
    "\n",
    "$$\\vec{X}'= \\underline{F}(\\vec{X})$$\n",
    "\n",
    "$$\\underline{F}(\\vec{X})=\\begin{pmatrix} \\frac{1}{Pe}(1-T)+Di(h)(A\\tau^{n}e^{-Q/T}) \\\\\n",
    " 2(1-h(A\\tau^{n}e^{-Q/T}))\\end{pmatrix}$$\n",
    "the jacobian:\n",
    "$$\\underline{J}(\\vec{X})=\\begin{pmatrix}  \\frac{\\partial F_T}{\\partial T} & \\frac{\\partial F_T}{\\partial \\tau}\\\\\n",
    "         \\frac{\\partial F_\\tau}{\\partial T} & \\frac{\\partial F_\\tau}{\\partial\\tau} \\end{pmatrix}$$"
   ]
  },
  {
   "cell_type": "code",
   "execution_count": null,
   "metadata": {
    "collapsed": true,
    "scrolled": true
   },
   "outputs": [],
   "source": [
    "\n",
    "DSargs = args(name='T v tau')  # struct-like data\n",
    "#DSargs.events = [event_T_A]\n",
    "DSargs.pars = pars\n",
    "DSargs.tdata = [0, 3.]\n",
    "DSargs.algparams = {'max_pts': 3000, 'init_step': 0.02, 'stiff': True}\n",
    "DSargs.varspecs = {'T': Tstr, 'tau': taustr}\n",
    "DSargs.xdomain = {'T': [1.,3.], 'tau': [0., 3]}\n",
    "DSargs.fnspecs = {'Jacobian': (['t','T','tau'],\n",
    "                                \"\"\"[[-iPe + (Di)*(h)*(A)*(tau**n)*(Q/T/T)*(exp(-Q/T)), (Di)*(h)*(A)*exp(-Q/T)*(n)*tau**(n-1)],\n",
    "                                    [-2*(h)*(A)*(tau**n)*(Q/T/T)*exp(-Q/T)  ,  -2*(A)*exp(-Q/T)*(h)*(n)*tau**(n-1)]]\"\"\")}\n",
    "DSargs.ics = icdict\n",
    "vdp = dst.Vode_ODEsystem(DSargs)\n"
   ]
  },
  {
   "cell_type": "code",
   "execution_count": null,
   "metadata": {},
   "outputs": [],
   "source": [
    "N = 40\n",
    "iPeRange = np.linspace(1.,20.,N)\n",
    "fp_T = np.zeros(N)\n",
    "fp_tau = np.zeros(N)\n",
    "fp_det = np.zeros(N)\n",
    "fp_trace = np.zeros(N)\n",
    "t = 0.\n",
    "\n",
    "for i,iPe in enumerate(iPeRange):\n",
    "    vdp.pars['iPe']=iPe\n",
    "    fp_coords = pp.find_fixedpoints(vdp, n=10, eps=1e-8)\n",
    "    fp_coord = fp_coords[0]\n",
    "    if len(fp_coords) > 1:\n",
    "        print('Warning: {} fixpoints'.format(len(fp_coords)))\n",
    "    fp_T[i] = fp_coord['T']\n",
    "    fp_tau[i] = fp_coord['tau']\n",
    "    eig = np.linalg.eig(vdp.Jacobian(t,fp_coord))[0]\n",
    "    fp_det[i] = eig[0]*eig[1]\n",
    "    fp_trace[i] = np.sum(eig)\n",
    "    print('iPe = {}:\\n fixed-point: T= {}, tau={}, Tr = {}, eigs={}'.format(iPe,fp_T[i],fp_tau[i],fp_trace[i],eig))\n",
    "    "
   ]
  },
  {
   "cell_type": "code",
   "execution_count": null,
   "metadata": {
    "collapsed": true
   },
   "outputs": [],
   "source": []
  },
  {
   "cell_type": "code",
   "execution_count": null,
   "metadata": {
    "collapsed": true
   },
   "outputs": [],
   "source": []
  }
 ],
 "metadata": {
  "anaconda-cloud": {},
  "kernelspec": {
   "display_name": "Python [default]",
   "language": "python",
   "name": "python2"
  },
  "language_info": {
   "codemirror_mode": {
    "name": "ipython",
    "version": 2
   },
   "file_extension": ".py",
   "mimetype": "text/x-python",
   "name": "python",
   "nbconvert_exporter": "python",
   "pygments_lexer": "ipython2",
   "version": "2.7.12"
  }
 },
 "nbformat": 4,
 "nbformat_minor": 1
}

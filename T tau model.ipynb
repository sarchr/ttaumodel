{
 "cells": [
  {
   "cell_type": "code",
   "execution_count": null,
   "metadata": {
    "collapsed": true
   },
   "outputs": [],
   "source": [
    "\n",
    "import PyDSTool as dst\n",
    "from PyDSTool import args\n",
    "import numpy as np\n",
    "from matplotlib import pyplot as plt"
   ]
  },
  {
   "cell_type": "code",
   "execution_count": null,
   "metadata": {},
   "outputs": [],
   "source": [
    "pars = {'h': .005, 'A': 7.26722e27,'n': 3.5,'Q': 52.,'iPe': 10, 'Di': 2.}\n",
    "edot0 = 1.e-11\n",
    "\n",
    "pars['A']=6500/edot0*5e4**3.5*1e4**-2\n",
    "icdict = {'T': 1.,'tau': 0.}\n",
    "Tstr = '(iPe)*(1.-T)+Di*h*(A*tau**n)*exp(-Q/T)'\n",
    "taustr = '2*(1-h*(A*tau**n)*exp(-Q/T))'\n",
    "print pars['A']"
   ]
  },
  {
   "cell_type": "code",
   "execution_count": null,
   "metadata": {
    "collapsed": true
   },
   "outputs": [],
   "source": [
    "event_T_A = dst.makeZeroCrossEvent('T-A', 0,\n",
    "                            {'name': 'event_T_A',\n",
    "                             'eventtol': 1e-6,\n",
    "                             'term': False,\n",
    "                             'active': True},\n",
    "                    varnames=['T'], parnames=['A'],\n",
    "                    targetlang='python')\n"
   ]
  },
  {
   "cell_type": "markdown",
   "metadata": {},
   "source": [
    "$$\\vec{X}= \\begin{pmatrix}  T \\\\ \n",
    "\\tau \\end{pmatrix} $$\n",
    "\n",
    "$$\\vec{X}'= \\underline{F}(\\vec{X})$$\n",
    "\n",
    "$$\\underline{F}(\\vec{X})=\\begin{pmatrix} \\frac{1}{Pe}(1-T)+Di(h)(A\\tau^{n}e^{-Q/T}) \\\\\n",
    " 2(1-h(A\\tau^{n}e^{-Q/T}))\\end{pmatrix}$$\n",
    "the jacobian:\n",
    "$$\\underline{J}(\\vec{X})=\\begin{pmatrix}  \\frac{\\partial F_T}{\\partial T} & \\frac{\\partial F_T}{\\partial \\tau}\\\\\n",
    "         \\frac{\\partial F_\\tau}{\\partial T} & \\frac{\\partial F_\\tau}{\\partial\\tau} \\end{pmatrix}$$"
   ]
  },
  {
   "cell_type": "code",
   "execution_count": null,
   "metadata": {
    "collapsed": true,
    "scrolled": true
   },
   "outputs": [],
   "source": [
    "\n",
    "DSargs = args(name='T v tau')  # struct-like data\n",
    "#DSargs.events = [event_T_A]\n",
    "DSargs.pars = pars\n",
    "DSargs.tdata = [0, 10.]\n",
    "DSargs.algparams = {'max_pts': 3000, 'init_step': 0.02, 'stiff': True}\n",
    "DSargs.varspecs = {'T': Tstr, 'tau': taustr}\n",
    "DSargs.xdomain = {'T': [1.,5.], 'tau': [0., 1]}\n",
    "DSargs.fnspecs = {'Jacobian': (['t','T','tau'],\n",
    "                                \"\"\"[[-iPe + (Di)*(h)*(A)*(tau**n)*(Q/T/T)*(exp(-Q/T)), (Di)*(h)*(A)*exp(-Q/T)*(n)*tau**(n-1)],\n",
    "                                    [-2*(h)*(A)*(tau**n)*(Q/T/T)*exp(-Q/T)  ,  -2*(A)*exp(-Q/T)*(h)*(n)*tau**(n-1)]]\"\"\")}\n",
    "DSargs.ics = icdict\n",
    "vdp = dst.Vode_ODEsystem(DSargs)\n"
   ]
  },
  {
   "cell_type": "code",
   "execution_count": null,
   "metadata": {},
   "outputs": [],
   "source": [
    "traj = vdp.compute('test_traj')\n",
    "pts = traj.sample()\n",
    "print pts\n",
    "#evs = traj.getEvents('event_x_a')\n",
    "\n",
    "# figure 1 is the time evolution of the two variables\n",
    "plt.figure(1)\n",
    "plt.plot(pts['t'], pts['T'], 'b', linewidth=2,label='T')\n",
    "plt.plot(pts['t'], pts['tau'], 'r', linewidth=2,label='$\\\\tau$')\n",
    "plt.legend(loc='best')\n",
    "plt.show()"
   ]
  },
  {
   "cell_type": "code",
   "execution_count": null,
   "metadata": {},
   "outputs": [],
   "source": [
    "print DSargs.varspecs\n"
   ]
  },
  {
   "cell_type": "code",
   "execution_count": null,
   "metadata": {},
   "outputs": [],
   "source": [
    "h =.01\n",
    "A = 7.26722e27\n",
    "n = 3.5\n",
    "Q = 52.\n",
    "iPe = 1. \n",
    "Di = .01\n",
    "T = 1.\n",
    "tau = .01\n",
    "dT= (iPe)*(1.-T)+Di*h*(A*tau**n)*np.exp(-Q/T)\n",
    "dtau = 2*(1-h*(A*tau**n)*np.exp(-Q/T))\n",
    "print dT, dtau\n",
    "print (A*tau**n)*np.exp(-Q/T)"
   ]
  },
  {
   "cell_type": "code",
   "execution_count": null,
   "metadata": {},
   "outputs": [],
   "source": [
    "print A*np.exp(-Q/T)"
   ]
  },
  {
   "cell_type": "code",
   "execution_count": null,
   "metadata": {},
   "outputs": [],
   "source": [
    "print Di*h*tau**n"
   ]
  },
  {
   "cell_type": "code",
   "execution_count": null,
   "metadata": {},
   "outputs": [],
   "source": [
    "plt.figure(2)\n",
    "\n",
    "from PyDSTool.Toolbox import phaseplane as pp\n",
    "\n",
    "# plot vector field, using a scale exponent to ensure arrows are well spaced\n",
    "# and sized\n",
    "pp.plot_PP_vf(vdp, 'T', 'tau', scale_exp=0.)\n",
    "\n",
    "plt.plot(pts['T'], pts['tau'], 'b', linewidth=2)\n",
    "\n",
    "\n",
    "try:\n",
    "    fp_coord = pp.find_fixedpoints(vdp, n=4, eps=1e-8)[0]\n",
    "    fp = pp.fixedpoint_2D(vdp, dst.Point(fp_coord), eps=1e-8)\n",
    "    # plot the fixed point\n",
    "    print dst.Point(fp_coord)\n",
    "    pp.plot_PP_fps(fp)\n",
    "except:\n",
    "    print(\"couldnt find a fixed point\")\n",
    "    \n",
    "try:\n",
    "    # n=3 uses three starting points in the domain to find nullcline parts, to an\n",
    "    # accuracy of eps=1e-8, and a maximum step for the solver of 0.1 units.\n",
    "    # The fixed point found is also provided to help locate the nullclines.\n",
    "    nulls_x, nulls_y = pp.find_nullclines(vdp, 'T', 'tau', n=3, eps=1e-8, max_step=.01,fps=[fp_coord])\n",
    "    # plot the nullclines\n",
    "    plt.plot(nulls_x[:,0], nulls_x[:,1], 'b')\n",
    "    plt.plot(nulls_y[:,0], nulls_y[:,1], 'g')\n",
    "except:\n",
    "    print('help')\n",
    "    \n",
    "#plt.autoscale(enable=True, axis='x', tight=True\n",
    "#plt.axis('tight')\n",
    "#plt.title('Phase plane')\n",
    "#plt.xlabel('T')\n",
    "#plt.ylabel('tau')\n",
    "\n",
    "plt.show()"
   ]
  }
 ],
 "metadata": {
  "anaconda-cloud": {},
  "kernelspec": {
   "display_name": "Python [default]",
   "language": "python",
   "name": "python2"
  },
  "language_info": {
   "codemirror_mode": {
    "name": "ipython",
    "version": 2
   },
   "file_extension": ".py",
   "mimetype": "text/x-python",
   "name": "python",
   "nbconvert_exporter": "python",
   "pygments_lexer": "ipython2",
   "version": "2.7.12"
  }
 },
 "nbformat": 4,
 "nbformat_minor": 1
}
